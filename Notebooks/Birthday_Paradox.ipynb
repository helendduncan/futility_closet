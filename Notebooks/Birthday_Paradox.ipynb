{
 "cells": [
  {
   "cell_type": "markdown",
   "id": "bd167507",
   "metadata": {},
   "source": [
    "# The Birthday Paradox\n",
    "\n",
    "\n",
    "The birthday paradox is that in a group of just 23 people, there is over a 50 % chance that two people will share a birthday.\n",
    "\n",
    "There are some subtlties here that I am not touching on, but the gist of this notebook is to test the paradox by brute force methods. Nothing sophisticated here!\n",
    "\n",
    "To break it down into the bare bones of the problem: I am stating that when picking 23 random numbers between 1 and 365, there is a 50% chance that I will pick the same number at least once.\n",
    "\n",
    "\n",
    "So what do I need to test this problem:\n",
    "\n",
    "\n",
    "1. [Random Number](#RandNumb)\n"
   ]
  },
  {
   "cell_type": "markdown",
   "id": "3288ea81",
   "metadata": {},
   "source": [
    "### RandNumb:\n",
    "\n",
    "First lets get a random number generator: Numpy will do but we should mention that it's not really a true random number generator"
   ]
  },
  {
   "cell_type": "code",
   "execution_count": 5,
   "id": "a9da2e5d",
   "metadata": {},
   "outputs": [
    {
     "name": "stdout",
     "output_type": "stream",
     "text": [
      "[334  78 178 142 307 286  61 200 195 109  21 132 209 277 317 227 202 146\n",
      " 292 326 146 146 164]\n",
      "[178 171 224 269 253   2 132 152  70 274  76  21  64 272 140 154 175 181\n",
      " 166  46 176 124   5]\n",
      "[314 138 241  62 126 152 135 166 127 301 111 300 276 301 125 151 253 294\n",
      " 152 145 280  10 127]\n",
      "[ 74 245 333  22  93  50  18 263 142 230 295  69 110  30 109 244 356  75\n",
      "  88 157 120 135  72]\n",
      "[140 241 247 179  32  22 175  36 303 210 268 279 303  77 253 184 308  81\n",
      "  60  19 271 351 264]\n",
      "[241 138 205 225 330 284 119  36 236 158 230  46 355 297  70 358 132  98\n",
      " 192  75 331  30  34]\n",
      "[ 82 185 277  41 195 105 189 252  37 319 198  55 175   1 129 116 208 360\n",
      " 200  12  49  72  73]\n",
      "[ 65 288  28  74 102 337 314 327 262 242 185 181  84  62 256 302  15 119\n",
      " 192 238 299 263  11]\n",
      "[224  20  34 277  77 208  80  65 341 201 121  89 253  19 217 162 220 175\n",
      " 299 171 334 121 312]\n",
      "[302  95 358 120  75 220 217   5 287  37 296 217 105 338  15  18 158  35\n",
      "  74  33 249  65  66]\n"
     ]
    }
   ],
   "source": [
    "import numpy as np\n",
    "\n",
    "for i in range(10):\n",
    "    print(np.random.randint(1,365, 23))"
   ]
  }
 ],
 "metadata": {
  "kernelspec": {
   "display_name": "Python 3",
   "language": "python",
   "name": "python3"
  },
  "language_info": {
   "codemirror_mode": {
    "name": "ipython",
    "version": 3
   },
   "file_extension": ".py",
   "mimetype": "text/x-python",
   "name": "python",
   "nbconvert_exporter": "python",
   "pygments_lexer": "ipython3",
   "version": "3.8.8"
  }
 },
 "nbformat": 4,
 "nbformat_minor": 5
}
